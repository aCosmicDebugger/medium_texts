{
 "cells": [
  {
   "cell_type": "code",
   "execution_count": 2,
   "id": "89a50538",
   "metadata": {},
   "outputs": [],
   "source": [
    "import pandas as pd\n",
    "import numpy as np\n",
    "import matplotlib.pyplot as plt\n",
    "import seaborn as sns\n",
    "import graphviz"
   ]
  },
  {
   "cell_type": "markdown",
   "id": "129cf8ff",
   "metadata": {},
   "source": [
    "# Using Random Forest to Classify SDSS DR18 objects"
   ]
  },
  {
   "cell_type": "markdown",
   "id": "86e68703",
   "metadata": {},
   "source": [
    "# The Sloan Digital Sky Survey (SDSS) and the DR18"
   ]
  },
  {
   "cell_type": "markdown",
   "id": "7f8c39fa",
   "metadata": {},
   "source": [
    "The Sloan Digital Sky Survey (SDSS) stands as a pioneering astronomical endeavor aimed at unveiling the mysteries of the universe through systematic observation and analysis of celestial objects. Launched in 2000, SDSS sought to achieve a comprehensive understanding of cosmic structure and evolution by mapping and cataloging celestial objects on an unprecedented scale. Its primary objectives encompassed mapping large-scale cosmic structures, elucidating the nature of dark matter and dark energy, and providing a comprehensive spectroscopic database for a multitude of astronomical studies.\n",
    "\n",
    "At the heart of the SDSS's success lies its advanced instrumentation. The survey employed a dedicated 2.5-meter telescope located at Apache Point Observatory in New Mexico. The focal plane of the telescope hosted a unique camera, equipped with 30 charged coupled devices (CCDs), enabling simultaneous imaging of a 3-degree wide region of the sky. This allowed SDSS to capture detailed images of billions of celestial objects, ranging from stars and galaxies to quasars.\n",
    "\n",
    "SDSS was conducted in multiple phases, with each phase introducing technological advancements and expanded capabilities. The original SDSS-I, conducted from 2000 to 2005. From 2005 to 2008 we had the SDSS phase II and from 2008 to 2014 the SDSS-III. The SDSS-IV (2014–2020) extended the precision cosmological measurements to a critical early phase of cosmic history (eBOSS), expanding its infrared spectroscopic survey of the Galaxy in the northern and southern hemispheres (APOGEE-2), and for the first time using the Sloan spectrographs to make spatially resolved maps of individual galaxies (MaNGA).\n",
    "\n",
    "Commencing its data collection for SDSS-V in October 2020, the Apache Point Observatory in New Mexico embarked on a transformative journey.They made a complete transition from plug plates, which employ manually positioned holes for starlight penetration, to cutting-edge small automated robot arms  called Focal Plane Systems (FPS). And early this year the SDSS-IV annouced their first data release.\n",
    "\n",
    "Marking the initial data unveiling of the fifth phase of the Sloan Digital Sky Survey (SDSS-V), DR18 encompasses a comprehensive compilation of celestial information. A comprehensive breakdown of its contents can be found within the pages of the DR18 data release paper. [Almeida et al. (2023)](https://iopscience.iop.org/article/10.3847/1538-4365/acda98/pdf)\n",
    "\n",
    " ### DR18 includes the following:\n",
    "\n",
    "- Targeting catalogs prepared for the Black Hole Mapper and Milky Way Mapper science programs, as well as for the open fiber programs\n",
    "- Black Hole Mapper eFEDs spectra, part of the SPIDERS science program\n",
    "- A Value Added Catalog of redshifts and classifications for all DR18 eFEDS targets"
   ]
  },
  {
   "cell_type": "markdown",
   "id": "efe4234d",
   "metadata": {},
   "source": [
    "In this notebook we want to test our capabilities in using classification algorithms to distinguish between Galaxies and Quasars from the dataset. We're going to use python package [querySDSS](https://pypi.org/project/querySDSS/) which makes a specific SQL query to SDSS DR18 and returns a table with at least 2500 observations of \n",
    "\n",
    "- **Objid, Specobjid** - Object Identifiers\n",
    "- **ra** - J2000 Right Ascension\n",
    "- **dec** - J2000 Declination\n",
    "- **redshift** - Final Redshift of the celestial object\n",
    "- **u**, **g**, **r**, **i**, and **z** -  magnitude fit for u, g, r, i, and z. (they correspond to the five photometric bands: ultraviolet band, green band, red band, infrared band, and near infrared band respectively)\n",
    "- **run** - Run number\n",
    "- **rerun** - Rerun number\n",
    "- **camcol** - Camera column\n",
    "- **field** - Field number\n",
    "- **redshift** - The redshift the obj sits\n",
    "- **class** - The Obj class (Star, Galaxy, QSO)"
   ]
  },
  {
   "cell_type": "code",
   "execution_count": 22,
   "id": "8485e352",
   "metadata": {},
   "outputs": [
    {
     "name": "stdout",
     "output_type": "stream",
     "text": [
      "       objid               ra        ... class     redshift  \n",
      "------------------- ---------------- ... ------ -------------\n",
      "1237645879551000764 348.841086940713 ... GALAXY     0.3996509\n",
      "1237645879551066262 348.902530171573 ... GALAXY    0.03212454\n",
      "1237645879562862699 15.8961264648656 ...   STAR -0.0008209134\n",
      "1237645879562928144 16.0049119708675 ... GALAXY     0.3120482\n",
      "1237645879562928258 16.0202444868512 ... GALAXY     0.2004682\n",
      "1237645879562928805  16.026028703005 ... GALAXY     0.7526451\n",
      "1237645879573873373 41.0196126806213 ... GALAXY     0.5046994\n",
      "                ...              ... ...    ...           ...\n",
      "1237646795989058131 118.949442944417 ...   STAR  3.937131e-05\n",
      "1237646795989058308 118.848428413638 ...   STAR  0.0002519906\n",
      "1237646795989058523 118.918747407749 ...   STAR  0.0001971318\n",
      "1237646795989189134 119.246323384102 ...   STAR   0.000217692\n",
      "1237646795989189214 119.230244179483 ...   STAR  3.716859e-05\n",
      "1237646795989254419 119.332970787389 ...   STAR  0.0001484987\n",
      "1237646795989255104 119.367429281317 ...   STAR  0.0002744804\n",
      "1237646795989255128 119.374328867962 ...   STAR  0.0002009906\n",
      "Length = 4000 rows\n"
     ]
    },
    {
     "name": "stderr",
     "output_type": "stream",
     "text": [
      "/home/isaac/Anaconda3/envs/COSMO/lib/python3.7/site-packages/astroquery/sdss/core.py:877: VisibleDeprecationWarning: Reading unicode strings without specifying the encoding argument is deprecated. Set the encoding, use None for the system default.\n",
      "  comments='#'))\n"
     ]
    }
   ],
   "source": [
    "from querySDSS.querySDSS.querySDSS import query_sdss_data\n",
    "\n",
    "a = query_sdss_data(4000)\n",
    "print(a)"
   ]
  },
  {
   "cell_type": "markdown",
   "id": "52732a5f",
   "metadata": {},
   "source": [
    "Now we see the table, but it is not a format we used to work with. Next step is to convert it to a more familiar format, a pandas.DataFrame, the type of the object is a astropy.table, it has a method called .to_pandas(), so we do it."
   ]
  },
  {
   "cell_type": "markdown",
   "id": "35bec71f",
   "metadata": {},
   "source": [
    "And we're going to work with a subset of columns, we wirte:"
   ]
  },
  {
   "cell_type": "code",
   "execution_count": 52,
   "id": "c7b637fd",
   "metadata": {},
   "outputs": [],
   "source": [
    "sdss_data = a[['ra', 'dec', 'u', 'g', 'r', 'i', 'z','redshift',  'class' ]]"
   ]
  },
  {
   "cell_type": "code",
   "execution_count": 53,
   "id": "62721f6b",
   "metadata": {},
   "outputs": [
    {
     "data": {
      "text/html": [
       "<div>\n",
       "<style scoped>\n",
       "    .dataframe tbody tr th:only-of-type {\n",
       "        vertical-align: middle;\n",
       "    }\n",
       "\n",
       "    .dataframe tbody tr th {\n",
       "        vertical-align: top;\n",
       "    }\n",
       "\n",
       "    .dataframe thead th {\n",
       "        text-align: right;\n",
       "    }\n",
       "</style>\n",
       "<table border=\"1\" class=\"dataframe\">\n",
       "  <thead>\n",
       "    <tr style=\"text-align: right;\">\n",
       "      <th></th>\n",
       "      <th>ra</th>\n",
       "      <th>dec</th>\n",
       "      <th>u</th>\n",
       "      <th>g</th>\n",
       "      <th>r</th>\n",
       "      <th>i</th>\n",
       "      <th>z</th>\n",
       "      <th>redshift</th>\n",
       "      <th>class</th>\n",
       "    </tr>\n",
       "  </thead>\n",
       "  <tbody>\n",
       "    <tr>\n",
       "      <th>0</th>\n",
       "      <td>348.841087</td>\n",
       "      <td>1.268802</td>\n",
       "      <td>25.92735</td>\n",
       "      <td>20.99570</td>\n",
       "      <td>19.24612</td>\n",
       "      <td>18.56461</td>\n",
       "      <td>18.43049</td>\n",
       "      <td>0.399651</td>\n",
       "      <td>b'GALAXY'</td>\n",
       "    </tr>\n",
       "    <tr>\n",
       "      <th>1</th>\n",
       "      <td>348.902530</td>\n",
       "      <td>1.271886</td>\n",
       "      <td>19.38905</td>\n",
       "      <td>18.24496</td>\n",
       "      <td>17.58728</td>\n",
       "      <td>17.20807</td>\n",
       "      <td>16.90905</td>\n",
       "      <td>0.032125</td>\n",
       "      <td>b'GALAXY'</td>\n",
       "    </tr>\n",
       "    <tr>\n",
       "      <th>2</th>\n",
       "      <td>15.896126</td>\n",
       "      <td>1.264845</td>\n",
       "      <td>20.14134</td>\n",
       "      <td>19.28787</td>\n",
       "      <td>19.04397</td>\n",
       "      <td>18.96897</td>\n",
       "      <td>18.79573</td>\n",
       "      <td>-0.000821</td>\n",
       "      <td>b'STAR'</td>\n",
       "    </tr>\n",
       "    <tr>\n",
       "      <th>3</th>\n",
       "      <td>16.004912</td>\n",
       "      <td>1.259423</td>\n",
       "      <td>21.50923</td>\n",
       "      <td>19.69340</td>\n",
       "      <td>18.47973</td>\n",
       "      <td>17.91998</td>\n",
       "      <td>17.55132</td>\n",
       "      <td>0.312048</td>\n",
       "      <td>b'GALAXY'</td>\n",
       "    </tr>\n",
       "    <tr>\n",
       "      <th>4</th>\n",
       "      <td>16.020244</td>\n",
       "      <td>1.267667</td>\n",
       "      <td>20.96947</td>\n",
       "      <td>20.29136</td>\n",
       "      <td>19.36779</td>\n",
       "      <td>18.86387</td>\n",
       "      <td>18.45551</td>\n",
       "      <td>0.200468</td>\n",
       "      <td>b'GALAXY'</td>\n",
       "    </tr>\n",
       "    <tr>\n",
       "      <th>...</th>\n",
       "      <td>...</td>\n",
       "      <td>...</td>\n",
       "      <td>...</td>\n",
       "      <td>...</td>\n",
       "      <td>...</td>\n",
       "      <td>...</td>\n",
       "      <td>...</td>\n",
       "      <td>...</td>\n",
       "      <td>...</td>\n",
       "    </tr>\n",
       "    <tr>\n",
       "      <th>3995</th>\n",
       "      <td>119.246323</td>\n",
       "      <td>-0.713899</td>\n",
       "      <td>21.16883</td>\n",
       "      <td>19.05197</td>\n",
       "      <td>18.22121</td>\n",
       "      <td>17.96988</td>\n",
       "      <td>17.95113</td>\n",
       "      <td>0.000218</td>\n",
       "      <td>b'STAR'</td>\n",
       "    </tr>\n",
       "    <tr>\n",
       "      <th>3996</th>\n",
       "      <td>119.230244</td>\n",
       "      <td>-0.879149</td>\n",
       "      <td>18.34543</td>\n",
       "      <td>16.51480</td>\n",
       "      <td>15.81666</td>\n",
       "      <td>15.58297</td>\n",
       "      <td>15.48080</td>\n",
       "      <td>0.000037</td>\n",
       "      <td>b'STAR'</td>\n",
       "    </tr>\n",
       "    <tr>\n",
       "      <th>3997</th>\n",
       "      <td>119.332971</td>\n",
       "      <td>-0.838072</td>\n",
       "      <td>20.69048</td>\n",
       "      <td>18.68261</td>\n",
       "      <td>17.88180</td>\n",
       "      <td>17.55374</td>\n",
       "      <td>17.40874</td>\n",
       "      <td>0.000148</td>\n",
       "      <td>b'STAR'</td>\n",
       "    </tr>\n",
       "    <tr>\n",
       "      <th>3998</th>\n",
       "      <td>119.367429</td>\n",
       "      <td>-0.769540</td>\n",
       "      <td>20.60680</td>\n",
       "      <td>18.71565</td>\n",
       "      <td>17.92311</td>\n",
       "      <td>17.60708</td>\n",
       "      <td>17.42728</td>\n",
       "      <td>0.000274</td>\n",
       "      <td>b'STAR'</td>\n",
       "    </tr>\n",
       "    <tr>\n",
       "      <th>3999</th>\n",
       "      <td>119.374329</td>\n",
       "      <td>-0.830050</td>\n",
       "      <td>20.85213</td>\n",
       "      <td>18.94114</td>\n",
       "      <td>18.25045</td>\n",
       "      <td>17.99142</td>\n",
       "      <td>17.88123</td>\n",
       "      <td>0.000201</td>\n",
       "      <td>b'STAR'</td>\n",
       "    </tr>\n",
       "  </tbody>\n",
       "</table>\n",
       "<p>4000 rows × 9 columns</p>\n",
       "</div>"
      ],
      "text/plain": [
       "              ra       dec         u         g         r         i         z  \\\n",
       "0     348.841087  1.268802  25.92735  20.99570  19.24612  18.56461  18.43049   \n",
       "1     348.902530  1.271886  19.38905  18.24496  17.58728  17.20807  16.90905   \n",
       "2      15.896126  1.264845  20.14134  19.28787  19.04397  18.96897  18.79573   \n",
       "3      16.004912  1.259423  21.50923  19.69340  18.47973  17.91998  17.55132   \n",
       "4      16.020244  1.267667  20.96947  20.29136  19.36779  18.86387  18.45551   \n",
       "...          ...       ...       ...       ...       ...       ...       ...   \n",
       "3995  119.246323 -0.713899  21.16883  19.05197  18.22121  17.96988  17.95113   \n",
       "3996  119.230244 -0.879149  18.34543  16.51480  15.81666  15.58297  15.48080   \n",
       "3997  119.332971 -0.838072  20.69048  18.68261  17.88180  17.55374  17.40874   \n",
       "3998  119.367429 -0.769540  20.60680  18.71565  17.92311  17.60708  17.42728   \n",
       "3999  119.374329 -0.830050  20.85213  18.94114  18.25045  17.99142  17.88123   \n",
       "\n",
       "      redshift      class  \n",
       "0     0.399651  b'GALAXY'  \n",
       "1     0.032125  b'GALAXY'  \n",
       "2    -0.000821    b'STAR'  \n",
       "3     0.312048  b'GALAXY'  \n",
       "4     0.200468  b'GALAXY'  \n",
       "...        ...        ...  \n",
       "3995  0.000218    b'STAR'  \n",
       "3996  0.000037    b'STAR'  \n",
       "3997  0.000148    b'STAR'  \n",
       "3998  0.000274    b'STAR'  \n",
       "3999  0.000201    b'STAR'  \n",
       "\n",
       "[4000 rows x 9 columns]"
      ]
     },
     "execution_count": 53,
     "metadata": {},
     "output_type": "execute_result"
    }
   ],
   "source": [
    "sdss_data = sdss_data.to_pandas()\n",
    "sdss_data"
   ]
  },
  {
   "cell_type": "markdown",
   "id": "4b64c134",
   "metadata": {},
   "source": [
    "Seems that the column \"class\" is written in bytecode, we need to transform it to strings."
   ]
  },
  {
   "cell_type": "code",
   "execution_count": 54,
   "id": "eb361e6c",
   "metadata": {},
   "outputs": [
    {
     "data": {
      "text/plain": [
       "0       b'GALAXY'\n",
       "1       b'GALAXY'\n",
       "2         b'STAR'\n",
       "3       b'GALAXY'\n",
       "4       b'GALAXY'\n",
       "          ...    \n",
       "3995      b'STAR'\n",
       "3996      b'STAR'\n",
       "3997      b'STAR'\n",
       "3998      b'STAR'\n",
       "3999      b'STAR'\n",
       "Name: class, Length: 4000, dtype: object"
      ]
     },
     "execution_count": 54,
     "metadata": {},
     "output_type": "execute_result"
    }
   ],
   "source": [
    "sdss_data['class']"
   ]
  },
  {
   "cell_type": "markdown",
   "id": "56445d27",
   "metadata": {},
   "source": [
    "Let's see if there's any missing value:"
   ]
  },
  {
   "cell_type": "code",
   "execution_count": 55,
   "id": "6710207f",
   "metadata": {},
   "outputs": [
    {
     "name": "stdout",
     "output_type": "stream",
     "text": [
      "No missing values found in the DataFrame.\n"
     ]
    }
   ],
   "source": [
    "missing_values = sdss_data.isna() \n",
    "\n",
    "\n",
    "any_missing = missing_values.any().any()\n",
    "\n",
    "\n",
    "if any_missing:\n",
    "    print(\"There are missing values in the DataFrame.\")\n",
    "else:\n",
    "    print(\"No missing values found in the DataFrame.\")"
   ]
  },
  {
   "cell_type": "markdown",
   "id": "9ccd2cbf",
   "metadata": {},
   "source": [
    "Nice, no missing values on our dataset.  We see we have a column with categorical data, the 'class' column in  which the objects belongs to. In total we have:\n"
   ]
  },
  {
   "cell_type": "code",
   "execution_count": 56,
   "id": "a7421c06",
   "metadata": {},
   "outputs": [
    {
     "data": {
      "text/plain": [
       "0    b'GALAXY'\n",
       "1       b'QSO'\n",
       "2      b'STAR'\n",
       "Name: class, dtype: object"
      ]
     },
     "execution_count": 56,
     "metadata": {},
     "output_type": "execute_result"
    }
   ],
   "source": [
    "k = sdss_data.groupby(sdss_data['class']).size().reset_index(name='counts')\n",
    "class_labels = k['class']\n",
    "class_labels"
   ]
  },
  {
   "cell_type": "markdown",
   "id": "be6c72d7",
   "metadata": {},
   "source": [
    "We are inclined to question whether there is any way in which the numerical variables in this dataset are capable of aiding in the identification of the class, i.e. the identification of the categorical variable in the dataset. But before we're going to do a exploratory data analysis to see if there's any hint that it might be possible."
   ]
  },
  {
   "cell_type": "markdown",
   "id": "8bcd273a",
   "metadata": {},
   "source": [
    "# EDA"
   ]
  },
  {
   "cell_type": "markdown",
   "id": "cbfcd331",
   "metadata": {},
   "source": [
    "As we want the algorithm to classify quasars and galaxies, we're going to explore the correlations first"
   ]
  },
  {
   "cell_type": "code",
   "execution_count": 28,
   "id": "085440b9",
   "metadata": {},
   "outputs": [],
   "source": [
    "from sklearn.preprocessing import LabelEncoder\n",
    "\n",
    "sdss_data['class'] = LabelEncoder().fit_transform(sdss_data['class'])\n",
    "corre_c_class = sdss_data.corrwith(sdss_data['class'])\n",
    "correlation_matrix = sdss_data.corr()"
   ]
  },
  {
   "cell_type": "markdown",
   "id": "bf4c58bc",
   "metadata": {},
   "source": [
    "The correlation matrix:"
   ]
  },
  {
   "cell_type": "code",
   "execution_count": 29,
   "id": "9fd5d823",
   "metadata": {},
   "outputs": [
    {
     "data": {
      "text/html": [
       "<div>\n",
       "<style scoped>\n",
       "    .dataframe tbody tr th:only-of-type {\n",
       "        vertical-align: middle;\n",
       "    }\n",
       "\n",
       "    .dataframe tbody tr th {\n",
       "        vertical-align: top;\n",
       "    }\n",
       "\n",
       "    .dataframe thead th {\n",
       "        text-align: right;\n",
       "    }\n",
       "</style>\n",
       "<table border=\"1\" class=\"dataframe\">\n",
       "  <thead>\n",
       "    <tr style=\"text-align: right;\">\n",
       "      <th></th>\n",
       "      <th>ra</th>\n",
       "      <th>dec</th>\n",
       "      <th>u</th>\n",
       "      <th>g</th>\n",
       "      <th>r</th>\n",
       "      <th>i</th>\n",
       "      <th>z</th>\n",
       "      <th>redshift</th>\n",
       "      <th>class</th>\n",
       "    </tr>\n",
       "  </thead>\n",
       "  <tbody>\n",
       "    <tr>\n",
       "      <th>ra</th>\n",
       "      <td>1.000000</td>\n",
       "      <td>-0.340108</td>\n",
       "      <td>-0.172559</td>\n",
       "      <td>-0.265076</td>\n",
       "      <td>-0.329298</td>\n",
       "      <td>0.018261</td>\n",
       "      <td>0.017848</td>\n",
       "      <td>-0.120259</td>\n",
       "      <td>0.518901</td>\n",
       "    </tr>\n",
       "    <tr>\n",
       "      <th>dec</th>\n",
       "      <td>-0.340108</td>\n",
       "      <td>1.000000</td>\n",
       "      <td>-0.003536</td>\n",
       "      <td>0.021184</td>\n",
       "      <td>0.030660</td>\n",
       "      <td>0.036738</td>\n",
       "      <td>0.036747</td>\n",
       "      <td>0.018180</td>\n",
       "      <td>-0.280516</td>\n",
       "    </tr>\n",
       "    <tr>\n",
       "      <th>u</th>\n",
       "      <td>-0.172559</td>\n",
       "      <td>-0.003536</td>\n",
       "      <td>1.000000</td>\n",
       "      <td>0.931351</td>\n",
       "      <td>0.831151</td>\n",
       "      <td>0.018210</td>\n",
       "      <td>0.017144</td>\n",
       "      <td>0.081903</td>\n",
       "      <td>-0.124727</td>\n",
       "    </tr>\n",
       "    <tr>\n",
       "      <th>g</th>\n",
       "      <td>-0.265076</td>\n",
       "      <td>0.021184</td>\n",
       "      <td>0.931351</td>\n",
       "      <td>1.000000</td>\n",
       "      <td>0.947446</td>\n",
       "      <td>0.003963</td>\n",
       "      <td>0.003045</td>\n",
       "      <td>0.141801</td>\n",
       "      <td>-0.177323</td>\n",
       "    </tr>\n",
       "    <tr>\n",
       "      <th>r</th>\n",
       "      <td>-0.329298</td>\n",
       "      <td>0.030660</td>\n",
       "      <td>0.831151</td>\n",
       "      <td>0.947446</td>\n",
       "      <td>1.000000</td>\n",
       "      <td>0.013112</td>\n",
       "      <td>0.012504</td>\n",
       "      <td>0.175634</td>\n",
       "      <td>-0.188468</td>\n",
       "    </tr>\n",
       "    <tr>\n",
       "      <th>i</th>\n",
       "      <td>0.018261</td>\n",
       "      <td>0.036738</td>\n",
       "      <td>0.018210</td>\n",
       "      <td>0.003963</td>\n",
       "      <td>0.013112</td>\n",
       "      <td>1.000000</td>\n",
       "      <td>0.999995</td>\n",
       "      <td>0.006825</td>\n",
       "      <td>-0.011943</td>\n",
       "    </tr>\n",
       "    <tr>\n",
       "      <th>z</th>\n",
       "      <td>0.017848</td>\n",
       "      <td>0.036747</td>\n",
       "      <td>0.017144</td>\n",
       "      <td>0.003045</td>\n",
       "      <td>0.012504</td>\n",
       "      <td>0.999995</td>\n",
       "      <td>1.000000</td>\n",
       "      <td>0.006953</td>\n",
       "      <td>-0.012137</td>\n",
       "    </tr>\n",
       "    <tr>\n",
       "      <th>redshift</th>\n",
       "      <td>-0.120259</td>\n",
       "      <td>0.018180</td>\n",
       "      <td>0.081903</td>\n",
       "      <td>0.141801</td>\n",
       "      <td>0.175634</td>\n",
       "      <td>0.006825</td>\n",
       "      <td>0.006953</td>\n",
       "      <td>1.000000</td>\n",
       "      <td>-0.277392</td>\n",
       "    </tr>\n",
       "    <tr>\n",
       "      <th>class</th>\n",
       "      <td>0.518901</td>\n",
       "      <td>-0.280516</td>\n",
       "      <td>-0.124727</td>\n",
       "      <td>-0.177323</td>\n",
       "      <td>-0.188468</td>\n",
       "      <td>-0.011943</td>\n",
       "      <td>-0.012137</td>\n",
       "      <td>-0.277392</td>\n",
       "      <td>1.000000</td>\n",
       "    </tr>\n",
       "  </tbody>\n",
       "</table>\n",
       "</div>"
      ],
      "text/plain": [
       "                ra       dec         u         g         r         i  \\\n",
       "ra        1.000000 -0.340108 -0.172559 -0.265076 -0.329298  0.018261   \n",
       "dec      -0.340108  1.000000 -0.003536  0.021184  0.030660  0.036738   \n",
       "u        -0.172559 -0.003536  1.000000  0.931351  0.831151  0.018210   \n",
       "g        -0.265076  0.021184  0.931351  1.000000  0.947446  0.003963   \n",
       "r        -0.329298  0.030660  0.831151  0.947446  1.000000  0.013112   \n",
       "i         0.018261  0.036738  0.018210  0.003963  0.013112  1.000000   \n",
       "z         0.017848  0.036747  0.017144  0.003045  0.012504  0.999995   \n",
       "redshift -0.120259  0.018180  0.081903  0.141801  0.175634  0.006825   \n",
       "class     0.518901 -0.280516 -0.124727 -0.177323 -0.188468 -0.011943   \n",
       "\n",
       "                 z  redshift     class  \n",
       "ra        0.017848 -0.120259  0.518901  \n",
       "dec       0.036747  0.018180 -0.280516  \n",
       "u         0.017144  0.081903 -0.124727  \n",
       "g         0.003045  0.141801 -0.177323  \n",
       "r         0.012504  0.175634 -0.188468  \n",
       "i         0.999995  0.006825 -0.011943  \n",
       "z         1.000000  0.006953 -0.012137  \n",
       "redshift  0.006953  1.000000 -0.277392  \n",
       "class    -0.012137 -0.277392  1.000000  "
      ]
     },
     "execution_count": 29,
     "metadata": {},
     "output_type": "execute_result"
    }
   ],
   "source": [
    "correlation_matrix"
   ]
  },
  {
   "cell_type": "markdown",
   "id": "c137c47a",
   "metadata": {},
   "source": [
    "Let's plot a heatmap of the correlation matrix for a better understanding:"
   ]
  },
  {
   "cell_type": "code",
   "execution_count": 30,
   "id": "35d360c5",
   "metadata": {},
   "outputs": [
    {
     "data": {
      "image/png": "[encoded data removed]",
      "text/plain": [
       "<Figure size 700x600 with 2 Axes>"
      ]
     },
     "metadata": {},
     "output_type": "display_data"
    }
   ],
   "source": [
    "plt.figure(figsize=(7, 6))\n",
    "sns.heatmap(correlation_matrix, annot=False, cmap='jet')\n",
    "plt.title('Correlation Matrix Heatmap')\n",
    "plt.show()"
   ]
  },
  {
   "cell_type": "markdown",
   "id": "d1453f3c",
   "metadata": {},
   "source": [
    "We want to know how does theese variables are correlated with the Class (Quasars, Galaxies or Stars),"
   ]
  },
  {
   "cell_type": "code",
   "execution_count": 31,
   "id": "240f3749",
   "metadata": {},
   "outputs": [
    {
     "data": {
      "image/png": "[encoded data removed]",
      "text/plain": [
       "<Figure size 800x400 with 1 Axes>"
      ]
     },
     "metadata": {},
     "output_type": "display_data"
    }
   ],
   "source": [
    "plt.figure(figsize=(8, 4))\n",
    "sns.barplot(x=corre_c_class.index, y=corre_c_class.values, palette='Spectral')\n",
    "plt.xticks(rotation=75)\n",
    "plt.title('Correlation between variables and \"Class\"')\n",
    "plt.show()"
   ]
  },
  {
   "cell_type": "markdown",
   "id": "733e87e0",
   "metadata": {},
   "source": [
    "The photometric bands as well as the redshift have little correlation with the class, and extinction curves almost none. Unless we have a good argument to supose that the ascencion and declination (which will make up the coordinates in the sky of the object) are really numerical variables valid do distinguish between the classes, their correlation may be considered spurious.\n",
    "\n",
    "We're going to use Random Forest as our classification algorithm. Spectroscopy data often contains complex relationships between different features (wavelengths, intensities, etc.). Random Forest can capture nonlinear and intricate interactions between these features, making it suitable for handling intricate spectral patterns that might not be well modeled by linear classifiers. Sometimes astronomical datasets can be imbalanced, where one class (e.g., quasars) is significantly less common than the other (e.g., stars). Random Forest can handle imbalanced data reasonably well, as it generates decision trees using bootstrapped samples, which can help mitigate the impact of class imbalance.\n",
    "\n",
    "Also tree-based models are much more robust to outliers than linear models, and they do not need variables to be normalized to work. As such, we need to do very little preprocessing on our data."
   ]
  },
  {
   "cell_type": "markdown",
   "id": "192f2c06",
   "metadata": {},
   "source": [
    "# Random Forest"
   ]
  },
  {
   "cell_type": "markdown",
   "id": "c550428d",
   "metadata": {},
   "source": [
    "In a random forest classification, multiple decision trees are created using different random subsets of the data and features. Each decision tree is like an expert, providing its opinion on how to classify the data. Predictions are made by calculating the prediction for each decision tree, then taking the most popular result. \n",
    "\n",
    "We're going to use scikit-learn package for our Random Forest algorithm."
   ]
  },
  {
   "cell_type": "code",
   "execution_count": 32,
   "id": "85ca534d",
   "metadata": {},
   "outputs": [],
   "source": [
    "from sklearn.ensemble import RandomForestClassifier"
   ]
  },
  {
   "cell_type": "markdown",
   "id": "7aa3502e",
   "metadata": {},
   "source": [
    "Following the workflow, next we need to split our data. "
   ]
  },
  {
   "cell_type": "markdown",
   "id": "19aac3a4",
   "metadata": {},
   "source": [
    "## Splitting the data:"
   ]
  },
  {
   "cell_type": "markdown",
   "id": "04e58d86",
   "metadata": {},
   "source": [
    "When training any supervised learning model, it is important to split the data into training and test data. The training data is used to fit the model. The algorithm uses the training data to learn the relationship between the features and the target. The test data is used to evaluate the performance of the model.\n",
    "\n",
    "The features of our model are all columns, except right ascension and declination.  So we have:"
   ]
  },
  {
   "cell_type": "code",
   "execution_count": 33,
   "id": "95a6edea",
   "metadata": {},
   "outputs": [],
   "source": [
    "X = sdss_data.drop(['ra', 'dec', 'class'], axis=1)\n",
    "y = sdss_data['class']"
   ]
  },
  {
   "cell_type": "code",
   "execution_count": 34,
   "id": "4f7d3336",
   "metadata": {},
   "outputs": [],
   "source": [
    "features  = X.columns.tolist()"
   ]
  },
  {
   "cell_type": "markdown",
   "id": "5abd2595",
   "metadata": {},
   "source": [
    "And now, splitting"
   ]
  },
  {
   "cell_type": "code",
   "execution_count": 35,
   "id": "14741f7f",
   "metadata": {},
   "outputs": [],
   "source": [
    "from sklearn.model_selection import train_test_split\n",
    "\n",
    "X_train, X_test, y_train, y_test = train_test_split(X, y, test_size=0.3)"
   ]
  },
  {
   "cell_type": "markdown",
   "id": "f30790a0",
   "metadata": {},
   "source": [
    "## Hyperparameter tunning"
   ]
  },
  {
   "cell_type": "markdown",
   "id": "b8a17948",
   "metadata": {},
   "source": [
    "Next step is to optimize the hyperparameters that are going to be used in our model. To do that we're going to do a _random search_ in the parameter space. We define the hyperparameters to use and their ranges in a dictionary, called param_dist, that follows:"
   ]
  },
  {
   "cell_type": "code",
   "execution_count": 36,
   "id": "9420eb46",
   "metadata": {},
   "outputs": [],
   "source": [
    "from sklearn.model_selection import RandomizedSearchCV\n",
    "from scipy.stats import randint\n",
    "\n",
    "param_dist = { 'n_estimators': randint(50,500), \n",
    "                             'max_depth': randint(1,20),\n",
    "                             'min_samples_leaf':randint(1,20)}"
   ]
  },
  {
   "cell_type": "code",
   "execution_count": 37,
   "id": "710a338f",
   "metadata": {},
   "outputs": [],
   "source": [
    "RF_tunning = RandomForestClassifier()\n",
    "RF_random_search = RandomizedSearchCV(RF_tunning, \n",
    "                                 param_distributions = param_dist, \n",
    "                                 n_iter=50, \n",
    "                                 cv=5)"
   ]
  },
  {
   "cell_type": "markdown",
   "id": "ef24a7c8",
   "metadata": {},
   "source": [
    "Fitting to the train data"
   ]
  },
  {
   "cell_type": "code",
   "execution_count": 38,
   "id": "e6017b1b",
   "metadata": {},
   "outputs": [
    {
     "data": {
      "text/plain": [
       "RandomizedSearchCV(cv=5, estimator=RandomForestClassifier(), n_iter=50,\n",
       "                   param_distributions={'max_depth': <scipy.stats._distn_infrastructure.rv_frozen object at 0x7ff2bad3ab90>,\n",
       "                                        'min_samples_leaf': <scipy.stats._distn_infrastructure.rv_frozen object at 0x7ff2bad3add0>,\n",
       "                                        'n_estimators': <scipy.stats._distn_infrastructure.rv_frozen object at 0x7ff2bad3aa90>})"
      ]
     },
     "execution_count": 38,
     "metadata": {},
     "output_type": "execute_result"
    }
   ],
   "source": [
    "RF_random_search.fit(X_train, y_train)"
   ]
  },
  {
   "cell_type": "markdown",
   "id": "b7bcbde5",
   "metadata": {},
   "source": [
    "Now we can retrive a dictionary of the best estimators we've got from our random search"
   ]
  },
  {
   "cell_type": "code",
   "execution_count": 39,
   "id": "f6985ab4",
   "metadata": {},
   "outputs": [],
   "source": [
    "best_estimators = RF_random_search.best_estimator_"
   ]
  },
  {
   "cell_type": "code",
   "execution_count": 40,
   "id": "08e4f759",
   "metadata": {},
   "outputs": [
    {
     "name": "stdout",
     "output_type": "stream",
     "text": [
      "Best Hyperparameters: {'n_estimators': 285, 'max_depth': 15, 'min_samples_leaf': 1}\n"
     ]
    }
   ],
   "source": [
    "best_params = {\n",
    "    'n_estimators': best_estimators.n_estimators,\n",
    "    'max_depth': best_estimators.max_depth,\n",
    "    'min_samples_leaf': best_estimators.min_samples_leaf }\n",
    "\n",
    "print('Best Hyperparameters:', best_params)"
   ]
  },
  {
   "cell_type": "markdown",
   "id": "6f31ac13",
   "metadata": {},
   "source": [
    "# Model fitting,  prediction and evaluation"
   ]
  },
  {
   "cell_type": "markdown",
   "id": "a04e486c",
   "metadata": {},
   "source": [
    "Now we are in place to call our random forest classifier, "
   ]
  },
  {
   "cell_type": "code",
   "execution_count": 41,
   "id": "adb702bf",
   "metadata": {},
   "outputs": [],
   "source": [
    "Random_Forest = RandomForestClassifier(**best_params)"
   ]
  },
  {
   "cell_type": "markdown",
   "id": "b3731429",
   "metadata": {},
   "source": [
    "## Fitting the model"
   ]
  },
  {
   "cell_type": "code",
   "execution_count": 42,
   "id": "acf8ea12",
   "metadata": {},
   "outputs": [
    {
     "data": {
      "text/plain": [
       "RandomForestClassifier(max_depth=15, n_estimators=285)"
      ]
     },
     "execution_count": 42,
     "metadata": {},
     "output_type": "execute_result"
    }
   ],
   "source": [
    "Random_Forest.fit(X_train, y_train)"
   ]
  },
  {
   "cell_type": "markdown",
   "id": "e235b0bf",
   "metadata": {},
   "source": [
    "## Making prediction"
   ]
  },
  {
   "cell_type": "code",
   "execution_count": 43,
   "id": "72bcbf35",
   "metadata": {},
   "outputs": [],
   "source": [
    "y_pred = Random_Forest.predict(X_test)"
   ]
  },
  {
   "cell_type": "markdown",
   "id": "6b0fa374",
   "metadata": {},
   "source": [
    "## Evaluating"
   ]
  },
  {
   "cell_type": "code",
   "execution_count": 44,
   "id": "4dc1cfc7",
   "metadata": {},
   "outputs": [],
   "source": [
    "from sklearn.metrics import accuracy_score, precision_score, recall_score"
   ]
  },
  {
   "cell_type": "markdown",
   "id": "478b5d47",
   "metadata": {},
   "source": [
    "## Recall and Precision in Classification\n",
    "\n",
    "**Recall (Sensitivity, True Positive Rate):**\n",
    "Recall measures a model's ability to correctly identify instances of a specific class out of all instances that actually belong to that class. It calculates the proportion of true positives (correctly predicted positive instances) among all actual positive instances. Mathematically:\n",
    "\n",
    "$$\n",
    " \\text{Recall} = \\frac{\\text{True Positives}}{\\text{True Positives} + \\text{False Negatives}} \n",
    "$$\n",
    "\n",
    "Where:\n",
    "- True Positives (TP): Correctly predicted positive instances.\n",
    "- False Negatives (FN): Instances that are positive but predicted as negative.\n",
    "\n",
    "Higher recall indicates effective capture of instances in a class. It's crucial when missing positive instances has serious consequences, such as in medical diagnosis.\n",
    "\n",
    "**Precision (Positive Predictive Value):**\n",
    "Precision measures a model's ability to correctly identify instances of a specific class out of all instances predicted as belonging to that class. It calculates the proportion of true positives among all instances predicted as positive. Mathematically:\n",
    "\n",
    "$$\n",
    "\\text{Precision} = \\frac{\\text{True Positives}}{\\text{True Positives} + \\text{False Positives}} \n",
    "$$\n",
    "\n",
    "Where:\n",
    "- True Positives (TP): Same as before.\n",
    "- False Positives (FP): Instances that are negative but predicted as positive.\n",
    "\n",
    "Higher precision indicates accurate positive predictions. It's crucial when false positives are costly, as in spam email detection.\n",
    "\n",
    "**Balancing Recall and Precision:**\n",
    "Recall and precision are often inversely related. Balancing them depends on the application and the costs of false positives and false negatives. The F1-score, the harmonic mean of recall and precision, provides a single metric considering both:\n",
    "\n",
    "$$\n",
    " F1\\text{-score} = 2 \\times \\frac{\\text{Precision} \\times \\text{Recall}}{\\text{Precision} + \\text{Recall}} \n",
    "$$\n",
    "\n",
    "In summary, recall and precision offer different insights into model performance. The choice between them depends on the context and classification goals."
   ]
  },
  {
   "cell_type": "markdown",
   "id": "a66e3329",
   "metadata": {},
   "source": [
    "### Classification Report"
   ]
  },
  {
   "cell_type": "code",
   "execution_count": 46,
   "id": "bcbfb0c4",
   "metadata": {},
   "outputs": [
    {
     "name": "stdout",
     "output_type": "stream",
     "text": [
      "Classification Report:\n",
      "               precision    recall  f1-score   support\n",
      "\n",
      "         QSO       0.95      0.96      0.95       265\n",
      "      Galaxy       0.99      0.82      0.90        80\n",
      "        STAR       0.99      1.00      0.99       855\n",
      "\n",
      "    accuracy                           0.98      1200\n",
      "   macro avg       0.97      0.93      0.95      1200\n",
      "weighted avg       0.98      0.98      0.98      1200\n",
      "\n"
     ]
    }
   ],
   "source": [
    "from sklearn.metrics import classification_report\n",
    "report = classification_report(y_test, y_pred, target_names=['QSO', 'Galaxy', 'STAR']) \n",
    "print('Classification Report:\\n', report)"
   ]
  },
  {
   "cell_type": "markdown",
   "id": "28b210e0",
   "metadata": {},
   "source": [
    "We can see that this result is quite similar (considering the size of the sample) to the one obtained by [A. O. Clarke 2020](https://arxiv.org/abs/1909.10963) \n",
    "\n",
    "### Performance metrics derived from applying the random forest model to the test dataset of 1.55 million spectroscopically confirmed sources. \n",
    "\n",
    "| Features                          | Precision - Galaxy | Precision - Quasar | Precision - Star | Recall - Galaxy | Recall - Quasar | Recall - Star | F1 Score - Galaxy | F1 Score - Quasar | F1 Score - Star |\n",
    "| --------------------------------- | ------------------ | ------------------ | ---------------- | --------------- | --------------- | ------------- | ----------------- | ----------------- | --------------- |\n",
    "| SDSS + WISE + resolved_r          | 0.987              | 0.961              | 0.991            | 0.995           | 0.944           | 0.965         | 0.991             | 0.952             | 0.978           |\n",
    "| SDSS + WISE                       | 0.981              | 0.957              | 0.989            | 0.993           | 0.929           | 0.958         | 0.987             | 0.943             | 0.973           |\n",
    "|**SDSS**                              | **0.956**              | **0.905**              | **0.958**            | **0.980**           | **0.865**           | **0.888**         | **0.968**             | **0.885**             | **0.922**           |\n",
    "| SDSS + resolved_r                 | 0.981              | 0.948              | 0.979            | 0.993           | 0.924           | 0.945         | 0.987             | 0.936             | 0.962           |\n",
    "| WISE                              | 0.880              | 0.886              | 0.711            | 0.954           | 0.862           | 0.466         | 0.915             | 0.874             | 0.563           |\n",
    "\n",
    "\n",
    "* SDSS PSF magnitudes are in bands *u, g, r, i, z*, WISE magnitudes are in bands *w1, w2, w3, w4*."
   ]
  },
  {
   "cell_type": "markdown",
   "id": "8911b1a4",
   "metadata": {},
   "source": [
    "### Confusion Matrix"
   ]
  },
  {
   "cell_type": "code",
   "execution_count": 47,
   "id": "98db04ed",
   "metadata": {},
   "outputs": [
    {
     "data": {
      "image/png": "[encoded data removed]",
      "text/plain": [
       "<Figure size 800x600 with 2 Axes>"
      ]
     },
     "metadata": {},
     "output_type": "display_data"
    }
   ],
   "source": [
    "from sklearn.metrics import confusion_matrix\n",
    "\n",
    "CM = confusion_matrix(y_test, y_pred)\n",
    "\n",
    "plt.figure(figsize=(8, 6))\n",
    "sns.heatmap(CM, annot=True, fmt='d', cmap='plasma', xticklabels=class_labels, yticklabels=class_labels)\n",
    "plt.xlabel('Predicted')\n",
    "plt.ylabel('True')\n",
    "plt.title('Confusion Matrix')\n",
    "plt.show()"
   ]
  },
  {
   "cell_type": "markdown",
   "id": "51f7a040",
   "metadata": {},
   "source": [
    "#### Accuracy\n",
    "\n",
    "Accuracy measures the proportion of correctly classified instances out of the total instances. It's a common metric for balanced datasets, but it might not be the best choice for highly imbalanced datasets."
   ]
  },
  {
   "cell_type": "code",
   "execution_count": 48,
   "id": "eee169e0",
   "metadata": {},
   "outputs": [
    {
     "name": "stdout",
     "output_type": "stream",
     "text": [
      "Accuracy: 0.98\n"
     ]
    }
   ],
   "source": [
    "accuracy = accuracy_score(y_test, y_pred)\n",
    "print(f'Accuracy: {accuracy:.2f}')"
   ]
  },
  {
   "cell_type": "markdown",
   "id": "6de2c3cc",
   "metadata": {},
   "source": [
    "#### Feature Importance\n",
    "\n",
    "Our dataset is a bit inbalanced so we're going to use feature importance as a mean to evaluate our model."
   ]
  },
  {
   "cell_type": "code",
   "execution_count": 49,
   "id": "f127f0be",
   "metadata": {},
   "outputs": [
    {
     "data": {
      "image/png": "[encoded data removed]",
      "text/plain": [
       "<Figure size 700x400 with 1 Axes>"
      ]
     },
     "metadata": {},
     "output_type": "display_data"
    }
   ],
   "source": [
    "importances = Random_Forest.feature_importances_\n",
    "indices = np.argsort(importances)[::-1]\n",
    "\n",
    "num_bars = len(indices)\n",
    "colors = plt.cm.rainbow(np.linspace(0, 1, num_bars))\n",
    "# Plot the feature importances\n",
    "plt.figure(figsize=(7, 4))\n",
    "plt.title(\"Feature Importances\")\n",
    "plt.bar(range(X_train.shape[1]), importances[indices], align=\"center\", color=colors)\n",
    "plt.xticks(range(X_train.shape[1]), [features[i] for i in indices], rotation=35) \n",
    "plt.xlim([-1, X_train.shape[1]])\n",
    "plt.tight_layout()\n",
    "plt.show()"
   ]
  },
  {
   "cell_type": "markdown",
   "id": "c8b747a7",
   "metadata": {},
   "source": [
    "Galaxies and quasars are both astronomical objects, but they have distinct differences in terms of their properties and behavior, but not in the spectrograph aspect. Most galaxies in the universe have relatively small redshift values. These values are typically in the range of 0 to 0.1, Quasars, on the other hand, are known for their extremely high redshift values. Quasars can have redshifts greater than 0.1 and even exceed values of 7 or more. This corresponds to the objects being billions of light-years away from us. The high redshift of quasars is a clear indicator of their extreme distance and their place in the early universe. "
   ]
  }
 ],
 "metadata": {
  "kernelspec": {
   "display_name": "Python 3 (ipykernel)",
   "language": "python",
   "name": "python3"
  },
  "language_info": {
   "codemirror_mode": {
    "name": "ipython",
    "version": 3
   },
   "file_extension": ".py",
   "mimetype": "text/x-python",
   "name": "python",
   "nbconvert_exporter": "python",
   "pygments_lexer": "ipython3",
   "version": "3.7.16"
  }
 },
 "nbformat": 4,
 "nbformat_minor": 5
}
